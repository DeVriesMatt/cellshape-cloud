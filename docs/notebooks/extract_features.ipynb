{
 "cells": [
  {
   "cell_type": "code",
   "execution_count": null,
   "id": "1ad79df2",
   "metadata": {
    "pycharm": {
     "name": "#%%\n"
    }
   },
   "outputs": [],
   "source": [
    "import torch\n",
    "from torch.utils.data import DataLoader\n",
    "from cellshape_cloud.vendor.chamfer_distance import ChamferLoss\n",
    "from cellshape_cloud.pointcloud_dataset import (\n",
    "    PointCloudDataset,\n",
    "    SingleCellDataset,\n",
    ")\n",
    "from cellshape_cloud.cloud_autoencoder import CloudAutoEncoder\n",
    "\n",
    "path = \"/run/user/1128299809/gvfs/smb-share:server=rds.icr.ac.uk,share=data/DBI/DUDBI/DYNCESYS/mvries/ResultsAlma/TearingNetNew/nets/dgcnn_foldingnet_128_001.pt\""
   ]
  },
  {
   "cell_type": "code",
   "execution_count": null,
   "id": "15449f89",
   "metadata": {
    "pycharm": {
     "name": "#%%\n"
    }
   },
   "outputs": [],
   "source": [
    "model = CloudAutoEncoder(\n",
    "    num_features=128,\n",
    "    k=20,\n",
    "    encoder_type=\"dgcnn\",\n",
    "    decoder_type=\"foldingnetbasic\",\n",
    ")\n",
    "checkpoint = torch.load(path)\n",
    "model_dict = model.state_dict()  # load parameters from pre-trained FoldingNet\n",
    "\n",
    "model.load_state_dict(checkpoint[\"model_state_dict\"])\n",
    "checkpoint[\"loss\"]"
   ]
  },
  {
   "cell_type": "code",
   "execution_count": null,
   "id": "3db2acfd",
   "metadata": {
    "pycharm": {
     "name": "#%%\n"
    }
   },
   "outputs": [],
   "source": [
    "root_dir = \"/home/mvries/Documents/Datasets/OPM/SingleCellFromNathan_17122021/\"\n",
    "df = \"/home/mvries/Documents/Datasets/OPM/SingleCellFromNathan_17122021/all_cell_data.csv\"\n",
    "dataset = SingleCellDataset(df, root_dir, cell_component=\"cell\")\n",
    "\n",
    "dataloader = DataLoader(dataset, batch_size=1, shuffle=False)"
   ]
  },
  {
   "cell_type": "code",
   "execution_count": null,
   "id": "d864e42d",
   "metadata": {
    "pycharm": {
     "name": "#%%\n"
    }
   },
   "outputs": [],
   "source": [
    "from tqdm import tqdm\n",
    "\n",
    "device = torch.device(\"cuda:0\" if torch.cuda.is_available() else \"cpu\")\n",
    "model.to(device)\n",
    "model.eval()\n",
    "all_feat = []\n",
    "all_outputs = []\n",
    "all_inputs = []\n",
    "labels = []\n",
    "serial_numbers = []\n",
    "for data in tqdm(dataloader):\n",
    "    inputs = data[0]\n",
    "    lab = data[1]\n",
    "    ser_num = data[3]\n",
    "    inputs = inputs.to(device)\n",
    "    batch_size = inputs.shape[0]\n",
    "\n",
    "    output, features = model(inputs)\n",
    "    all_inputs.append(torch.squeeze(inputs).detach().cpu().numpy())\n",
    "    all_outputs.append(torch.squeeze(output).detach().cpu().numpy())\n",
    "    all_feat.append(torch.squeeze(features).detach().cpu().numpy())\n",
    "    labels.append(lab[0])\n",
    "    serial_numbers.append(ser_num[0])"
   ]
  },
  {
   "cell_type": "code",
   "execution_count": null,
   "id": "880a6d84",
   "metadata": {
    "pycharm": {
     "name": "#%%\n"
    }
   },
   "outputs": [],
   "source": [
    "from mpl_toolkits.mplot3d import Axes3D\n",
    "import matplotlib.pyplot as plt\n",
    "\n",
    "number = 4026\n",
    "points = all_inputs[number]\n",
    "\n",
    "outs = all_outputs[number]\n",
    "\n",
    "fig = plt.figure(figsize=(5, 5))\n",
    "\n",
    "ax = plt.axes(projection=\"3d\")\n",
    "ax.scatter(points[:, 0], points[:, 1], points[:, 2], c=\"y\", marker=\"o\", s=20)\n",
    "\n",
    "fig = plt.figure(figsize=(5, 5))\n",
    "ax = plt.axes(projection=\"3d\")\n",
    "ax.scatter(outs[:, 0], outs[:, 1], outs[:, 2], c=\"r\", marker=\"o\", s=20)"
   ]
  },
  {
   "cell_type": "code",
   "execution_count": null,
   "id": "b31033b9",
   "metadata": {
    "pycharm": {
     "name": "#%%\n"
    }
   },
   "outputs": [],
   "source": []
  }
 ],
 "metadata": {
  "kernelspec": {
   "display_name": "Python 3 (ipykernel)",
   "language": "python",
   "name": "python3"
  },
  "language_info": {
   "codemirror_mode": {
    "name": "ipython",
    "version": 3
   },
   "file_extension": ".py",
   "mimetype": "text/x-python",
   "name": "python",
   "nbconvert_exporter": "python",
   "pygments_lexer": "ipython3",
   "version": "3.9.12"
  }
 },
 "nbformat": 4,
 "nbformat_minor": 5
}