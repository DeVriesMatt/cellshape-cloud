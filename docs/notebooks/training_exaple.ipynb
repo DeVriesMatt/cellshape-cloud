{
 "cells": [
  {
   "cell_type": "code",
   "execution_count": null,
   "outputs": [],
   "source": [
    "import cellshape_cloud as cscloud\n",
    "import torch\n",
    "from torch.utils.data import DataLoader\n",
    "from cellshape_cloud.vendor.chamfer_distance import ChamferLoss"
   ],
   "metadata": {
    "collapsed": false,
    "pycharm": {
     "name": "#%%\n"
    }
   }
  },
  {
   "cell_type": "code",
   "execution_count": null,
   "outputs": [],
   "source": [
    "PATH_TO_DATASET = \"/home/mvries/Documents/CellShape/DatasetForTesting\"\n",
    "batch_size = 20\n",
    "learning_rate = 0.00001\n",
    "num_features = 128\n",
    "encoder_type = \"dgcnn\"\n",
    "decoder_type = \"foldingnetbasic\"\n",
    "num_epochs = 1\n",
    "k = 20\n",
    "output_dir = \"/home/mvries/Documents/Testing_output/\"\n",
    "\n",
    "\n",
    "autoencoder = cscloud.CloudAutoEncoder(\n",
    "    num_features=num_features,\n",
    "    k=k,\n",
    "    encoder_type=encoder_type,\n",
    "    decoder_type=decoder_type,\n",
    ")\n",
    "logging_info = cscloud.get_experiment_name(\n",
    "    model=autoencoder, output_dir=output_dir\n",
    ")\n",
    "dataset = cscloud.PointCloudDataset(PATH_TO_DATASET)\n",
    "\n",
    "dataloader = DataLoader(dataset, batch_size=batch_size, shuffle=True)\n",
    "\n",
    "criterion = ChamferLoss()\n",
    "\n",
    "optimizer = torch.optim.Adam(\n",
    "    model.parameters(),\n",
    "    lr=learning_rate * 16 / batch_size,\n",
    "    betas=(0.9, 0.999),\n",
    "    weight_decay=1e-6,\n",
    ")\n",
    "\n",
    "cs_cloud.train(\n",
    "    model, dataloader, num_epochs, criterion, optimizer, logging_info\n",
    ")"
   ],
   "metadata": {
    "collapsed": false,
    "pycharm": {
     "name": "#%%\n"
    }
   }
  },
  {
   "cell_type": "code",
   "execution_count": null,
   "outputs": [],
   "source": [],
   "metadata": {
    "collapsed": false,
    "pycharm": {
     "name": "#%%\n"
    }
   }
  }
 ],
 "metadata": {
  "kernelspec": {
   "display_name": "Python 3 (ipykernel)",
   "language": "python",
   "name": "python3"
  },
  "language_info": {
   "codemirror_mode": {
    "name": "ipython",
    "version": 3
   },
   "file_extension": ".py",
   "mimetype": "text/x-python",
   "name": "python",
   "nbconvert_exporter": "python",
   "pygments_lexer": "ipython3",
   "version": "3.9.12"
  }
 },
 "nbformat": 4,
 "nbformat_minor": 5
}