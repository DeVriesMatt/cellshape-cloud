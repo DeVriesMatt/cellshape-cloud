{
 "cells": [
  {
   "cell_type": "code",
   "execution_count": null,
   "outputs": [],
   "source": [
    "import torch\n",
    "from torch.utils.data import DataLoader\n",
    "import logging\n",
    "from datetime import datetime\n",
    "\n",
    "import cellshape_cloud as cscloud\n",
    "from cellshape_cloud.vendor.chamfer_distance import ChamferLoss"
   ],
   "metadata": {
    "collapsed": false,
    "pycharm": {
     "name": "#%%\n"
    }
   }
  },
  {
   "cell_type": "code",
   "execution_count": null,
   "outputs": [],
   "source": [
    "PATH_TO_DATASET = \"/home/mvries/Documents/CellShape/DatasetForTesting/\"\n",
    "batch_size = 20\n",
    "learning_rate = 0.00001\n",
    "num_features = 128\n",
    "encoder_type = \"dgcnn\"\n",
    "decoder_type = \"foldingnetbasic\"\n",
    "num_epochs = 1\n",
    "k = 20\n",
    "output_dir = \"/home/mvries/Documents/Testing_output/\"\n",
    "\n",
    "\n",
    "autoencoder = cscloud.CloudAutoEncoder(\n",
    "    num_features=num_features,\n",
    "    k=k,\n",
    "    encoder_type=encoder_type,\n",
    "    decoder_type=decoder_type,\n",
    ")\n",
    "logging_info = cscloud.get_experiment_name(\n",
    "        model=autoencoder, output_dir=output_dir\n",
    "    )\n",
    "name_logging, name_model, name_writer, name = logging_info\n",
    "now = datetime.now().strftime(\"%d/%m/%Y %H:%M:%S\")\n",
    "logging.basicConfig(filename=name_logging, level=logging.INFO)\n",
    "\n",
    "dataset = cscloud.PointCloudDataset(PATH_TO_DATASET)\n",
    "\n",
    "dataloader = DataLoader(dataset, batch_size=batch_size, shuffle=True)\n",
    "\n",
    "criterion = ChamferLoss()\n",
    "\n",
    "optimizer = torch.optim.Adam(\n",
    "    autoencoder.parameters(),\n",
    "    lr=learning_rate * 16 / batch_size,\n",
    "    betas=(0.9, 0.999),\n",
    "    weight_decay=1e-6,\n",
    ")\n",
    "\n",
    "output = cscloud.train(autoencoder, dataloader, num_epochs, criterion, optimizer, logging_info)"
   ],
   "metadata": {
    "collapsed": false,
    "pycharm": {
     "name": "#%%\n"
    }
   }
  },
  {
   "cell_type": "code",
   "execution_count": null,
   "outputs": [],
   "source": [
    "output"
   ],
   "metadata": {
    "collapsed": false,
    "pycharm": {
     "name": "#%%\n"
    }
   }
  },
  {
   "cell_type": "code",
   "execution_count": 15,
   "id": "6878a6ef",
   "metadata": {},
   "outputs": [
    {
     "data": {
      "text/plain": [
       "(CloudAutoEncoder(\n",
       "   (encoder): DGCNNEncoder(\n",
       "     (conv1): Sequential(\n",
       "       (0): Conv2d(6, 64, kernel_size=(1, 1), stride=(1, 1), bias=False)\n",
       "       (1): BatchNorm2d(64, eps=1e-05, momentum=0.1, affine=True, track_running_stats=True)\n",
       "       (2): LeakyReLU(negative_slope=0.2)\n",
       "     )\n",
       "     (conv2): Sequential(\n",
       "       (0): Conv2d(128, 64, kernel_size=(1, 1), stride=(1, 1), bias=False)\n",
       "       (1): BatchNorm2d(64, eps=1e-05, momentum=0.1, affine=True, track_running_stats=True)\n",
       "       (2): LeakyReLU(negative_slope=0.2)\n",
       "     )\n",
       "     (conv3): Sequential(\n",
       "       (0): Conv2d(128, 128, kernel_size=(1, 1), stride=(1, 1), bias=False)\n",
       "       (1): BatchNorm2d(128, eps=1e-05, momentum=0.1, affine=True, track_running_stats=True)\n",
       "       (2): LeakyReLU(negative_slope=0.2)\n",
       "     )\n",
       "     (conv4): Sequential(\n",
       "       (0): Conv2d(256, 256, kernel_size=(1, 1), stride=(1, 1), bias=False)\n",
       "       (1): BatchNorm2d(256, eps=1e-05, momentum=0.1, affine=True, track_running_stats=True)\n",
       "       (2): LeakyReLU(negative_slope=0.2)\n",
       "     )\n",
       "     (conv5): Sequential(\n",
       "       (0): Conv1d(512, 512, kernel_size=(1,), stride=(1,), bias=False)\n",
       "       (1): BatchNorm1d(512, eps=1e-05, momentum=0.1, affine=True, track_running_stats=True)\n",
       "       (2): LeakyReLU(negative_slope=0.2)\n",
       "     )\n",
       "     (flatten): Flatten()\n",
       "     (embedding): Linear(in_features=512, out_features=128, bias=False)\n",
       "   )\n",
       "   (decoder): FoldingNetBasicDecoder(\n",
       "     (deembedding): Linear(in_features=128, out_features=512, bias=False)\n",
       "     (folding): FoldingModule(\n",
       "       (folding1): Sequential(\n",
       "         (0): Linear(in_features=514, out_features=512, bias=True)\n",
       "         (1): ReLU()\n",
       "         (2): Linear(in_features=512, out_features=512, bias=True)\n",
       "         (3): ReLU()\n",
       "         (4): Linear(in_features=512, out_features=3, bias=True)\n",
       "       )\n",
       "       (folding2): Sequential(\n",
       "         (0): Linear(in_features=515, out_features=512, bias=True)\n",
       "         (1): ReLU()\n",
       "         (2): Linear(in_features=512, out_features=512, bias=True)\n",
       "         (3): ReLU()\n",
       "         (4): Linear(in_features=512, out_features=3, bias=True)\n",
       "       )\n",
       "     )\n",
       "   )\n",
       " ),\n",
       " '/home/mvries/Documents/Testing_output/reports/dgcnn_foldingnetbasic_128_pretrained_015.log',\n",
       " '/home/mvries/Documents/Testing_output/nets/dgcnn_foldingnetbasic_128_pretrained_015.pt',\n",
       " '/home/mvries/Documents/Testing_output/runs/dgcnn_foldingnetbasic_128_pretrained_015',\n",
       " 'dgcnn_foldingnetbasic_128_pretrained_015')"
      ]
     },
     "execution_count": 15,
     "metadata": {},
     "output_type": "execute_result"
    }
   ],
   "source": [
    "output"
   ]
  },
  {
   "cell_type": "code",
   "execution_count": null,
   "id": "b9e78902",
   "metadata": {},
   "outputs": [],
   "source": []
  }
 ],
 "metadata": {
  "kernelspec": {
   "display_name": "Python 3 (ipykernel)",
   "language": "python",
   "name": "python3"
  },
  "language_info": {
   "codemirror_mode": {
    "name": "ipython",
    "version": 3
   },
   "file_extension": ".py",
   "mimetype": "text/x-python",
   "name": "python",
   "nbconvert_exporter": "python",
   "pygments_lexer": "ipython3",
   "version": "3.9.12"
  }
 },
 "nbformat": 4,
 "nbformat_minor": 5
}