{
 "cells": [
  {
   "cell_type": "code",
   "execution_count": 1,
   "id": "59358ed0",
   "metadata": {},
   "outputs": [],
   "source": [
    "import cellshape_cloud\n",
    "from cellshape_cloud.models.dgcnn_foldingnet import DGCNNFoldingNet\n",
    "from cellshape_cloud.helpers.training_functions import train\n",
    "from cellshape_cloud.dataloaders.pointcloud_dataset import PointCloudDataset\n",
    "import torch\n",
    "from torch.utils.data import DataLoader"
   ]
  },
  {
   "cell_type": "code",
   "execution_count": 2,
   "id": "2d8efbc3",
   "metadata": {},
   "outputs": [
    {
     "name": "stderr",
     "output_type": "stream",
     "text": [
      "Epoch 0: 100%|██████████| 1565/1565 [32:51<00:00,  1.26s/batch, loss=1.09e+6]\n"
     ]
    }
   ],
   "source": [
    "pc_path = PATH_TO_DATASET\n",
    "batch_size = 16\n",
    "learning_rate = 0.0000001\n",
    "\n",
    "model = DGCNNFoldingNet(512)\n",
    "\n",
    "dataset = PointCloudDataset(pc_path)\n",
    "\n",
    "dataloader = DataLoader(dataset, batch_size=batch_size, shuffle=True)\n",
    "\n",
    "optimizer = torch.optim.Adam(\n",
    "    model.parameters(),\n",
    "    lr=learning_rate * 16 / batch_size,\n",
    "    betas=(0.9, 0.999),\n",
    "    weight_decay=1e-6,\n",
    ")\n",
    "\n",
    "train(model, dataloader, 1, optimizer, \"./\")"
   ]
  }
 ],
 "metadata": {
  "kernelspec": {
   "display_name": "Python 3",
   "language": "python",
   "name": "python3"
  },
  "language_info": {
   "codemirror_mode": {
    "name": "ipython",
    "version": 3
   },
   "file_extension": ".py",
   "mimetype": "text/x-python",
   "name": "python",
   "nbconvert_exporter": "python",
   "pygments_lexer": "ipython3",
   "version": "3.8.8"
  }
 },
 "nbformat": 4,
 "nbformat_minor": 5
}
