{
 "cells": [
  {
   "cell_type": "code",
   "execution_count": 1,
   "id": "59358ed0",
   "metadata": {
    "pycharm": {
     "name": "#%%\n"
    }
   },
   "outputs": [],
   "source": [
    "import cellshape_cloud as cs_cloud\n",
    "import torch\n",
    "from torch.utils.data import DataLoader\n",
    "from chamferdist import ChamferDistance"
   ]
  },
  {
   "cell_type": "code",
   "execution_count": null,
   "outputs": [],
   "source": [
    "PATH_TO_DATASET = \"/home/mvries/Documents/Datasets/OPM/SingleCellFromNathan_17122021/Plate3/stacked_pointcloud\"\n",
    "batch_size = 20\n",
    "learning_rate = 0.00001\n",
    "num_features = 128\n",
    "encoder_type = \"dgcnn\"\n",
    "decoder_type = \"foldingnetbasic\"\n",
    "\n",
    "model = cs_cloud.GraphAutoEncoder(\n",
    "    num_features=num_features,\n",
    "    k=k,\n",
    "    encoder_type=encoder_type,\n",
    "    decoder_type=decoder_type,\n",
    ")\n",
    "\n",
    "dataset = cs_cloud.PointCloudDataset(PATH_TO_DATASET)\n",
    "\n",
    "dataloader = DataLoader(dataset, batch_size=batch_size, shuffle=True)\n",
    "\n",
    "criterion = ChamferDistance()\n",
    "\n",
    "optimizer = torch.optim.Adam(\n",
    "    model.parameters(),\n",
    "    lr=learning_rate * 16 / batch_size,\n",
    "    betas=(0.9, 0.999),\n",
    "    weight_decay=1e-6,\n",
    ")\n",
    "\n",
    "cs_cloud.train(model, dataloader, 1, criterion, optimizer, \"./\")"
   ],
   "metadata": {
    "collapsed": false,
    "pycharm": {
     "name": "#%%\n"
    }
   }
  }
 ],
 "metadata": {
  "kernelspec": {
   "display_name": "Python 3 (ipykernel)",
   "language": "python",
   "name": "python3"
  },
  "language_info": {
   "codemirror_mode": {
    "name": "ipython",
    "version": 3
   },
   "file_extension": ".py",
   "mimetype": "text/x-python",
   "name": "python",
   "nbconvert_exporter": "python",
   "pygments_lexer": "ipython3",
   "version": "3.8.13"
  }
 },
 "nbformat": 4,
 "nbformat_minor": 5
}