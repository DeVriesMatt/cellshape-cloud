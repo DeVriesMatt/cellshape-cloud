{
 "cells": [
  {
   "cell_type": "code",
   "execution_count": 7,
   "id": "4fc31c13",
   "metadata": {},
   "outputs": [],
   "source": [
    "from cellshape_cloud.lightning_autoencoder import CloudAutoEncoderPL\n",
    "from cellshape_cloud.cloud_autoencoder import CloudAutoEncoder\n",
    "from imblearn.over_sampling import RandomOverSampler\n",
    "from collections import Counter\n",
    "from imblearn.over_sampling import SMOTE\n",
    "from collections import Counter\n",
    "from matplotlib import pyplot\n",
    "from sklearn.preprocessing import LabelEncoder\n",
    "# define the dataset location\n",
    "from scipy.stats import zscore\n",
    "# First with nine classes\n",
    "from sklearn.metrics import accuracy_score, roc_auc_score, balanced_accuracy_score, average_precision_score, f1_score,roc_auc_score, precision_score,recall_score\n",
    "\n",
    "\n",
    "from sklearn.model_selection import train_test_split\n",
    "from sklearn import svm\n",
    "from sklearn.metrics import plot_confusion_matrix\n",
    "from sklearn.metrics import f1_score\n",
    "\n",
    "from sklearn.model_selection import cross_val_score\n",
    "from sklearn import svm\n",
    "\n",
    "from sklearn.metrics import make_scorer\n",
    "import matplotlib.pyplot as plt\n",
    "import pandas as pd\n",
    "import torch\n",
    "import sys \n",
    "import easydict\n",
    "\n",
    "sys.path.append('/home/mvries/Documents/GitHub/UnsupervisedPointCloudReconstruction/')\n",
    "\n",
    "from dataset import Dataset\n"
   ]
  },
  {
   "cell_type": "code",
   "execution_count": 8,
   "id": "5abd76ee",
   "metadata": {},
   "outputs": [],
   "source": [
    "path = '/run/user/1128299809/gvfs/smb-share:server=rds.icr.ac.uk,' \\\n",
    "    'share=data/DBI/DUDBI/DYNCESYS/mvries/ResultsAlma/ShapeNet/' "
   ]
  },
  {
   "cell_type": "code",
   "execution_count": 16,
   "id": "df14291d",
   "metadata": {},
   "outputs": [
    {
     "name": "stderr",
     "output_type": "stream",
     "text": [
      "100%|███████████████████████████████████████████████████████████████████████████████████████████████████| 9843/9843 [00:42<00:00, 231.51it/s]\n",
      "100%|███████████████████████████████████████████████████████████████████████████████████████████████████| 2468/2468 [00:10<00:00, 235.78it/s]\n"
     ]
    },
    {
     "name": "stdout",
     "output_type": "stream",
     "text": [
      "Results for encoder foldingnet shape plane k 20.\n",
      "{'acc': 0.8703403565640194}\n"
     ]
    },
    {
     "name": "stderr",
     "output_type": "stream",
     "text": [
      "100%|███████████████████████████████████████████████████████████████████████████████████████████████████| 9843/9843 [00:34<00:00, 281.85it/s]\n",
      "100%|███████████████████████████████████████████████████████████████████████████████████████████████████| 2468/2468 [00:08<00:00, 288.83it/s]\n"
     ]
    },
    {
     "name": "stdout",
     "output_type": "stream",
     "text": [
      "Results for encoder foldingnet shape plane k 40.\n",
      "{'acc': 0.8687196110210696}\n"
     ]
    },
    {
     "name": "stderr",
     "output_type": "stream",
     "text": [
      "100%|███████████████████████████████████████████████████████████████████████████████████████████████████| 9843/9843 [00:25<00:00, 383.92it/s]\n",
      "100%|███████████████████████████████████████████████████████████████████████████████████████████████████| 2468/2468 [00:06<00:00, 386.55it/s]\n"
     ]
    },
    {
     "name": "stdout",
     "output_type": "stream",
     "text": [
      "Results for encoder foldingnet shape gaussian k 40.\n",
      "{'acc': 0.8435980551053485}\n"
     ]
    },
    {
     "name": "stderr",
     "output_type": "stream",
     "text": [
      "100%|███████████████████████████████████████████████████████████████████████████████████████████████████| 9843/9843 [00:26<00:00, 377.01it/s]\n",
      "100%|███████████████████████████████████████████████████████████████████████████████████████████████████| 2468/2468 [00:06<00:00, 367.11it/s]\n"
     ]
    },
    {
     "name": "stdout",
     "output_type": "stream",
     "text": [
      "Results for encoder foldingnet shape gaussian k 20.\n",
      "{'acc': 0.8460291734197731}\n"
     ]
    },
    {
     "name": "stderr",
     "output_type": "stream",
     "text": [
      "100%|███████████████████████████████████████████████████████████████████████████████████████████████████| 9843/9843 [00:24<00:00, 394.81it/s]\n",
      "100%|███████████████████████████████████████████████████████████████████████████████████████████████████| 2468/2468 [00:06<00:00, 362.80it/s]\n"
     ]
    },
    {
     "name": "stdout",
     "output_type": "stream",
     "text": [
      "Results for encoder foldingnet shape sphere k 40.\n",
      "{'acc': 0.8480551053484603}\n"
     ]
    },
    {
     "name": "stderr",
     "output_type": "stream",
     "text": [
      "100%|███████████████████████████████████████████████████████████████████████████████████████████████████| 9843/9843 [00:25<00:00, 387.95it/s]\n",
      "100%|███████████████████████████████████████████████████████████████████████████████████████████████████| 2468/2468 [00:06<00:00, 393.51it/s]\n"
     ]
    },
    {
     "name": "stdout",
     "output_type": "stream",
     "text": [
      "Results for encoder foldingnet shape sphere k 20.\n",
      "{'acc': 0.853322528363047}\n"
     ]
    },
    {
     "name": "stderr",
     "output_type": "stream",
     "text": [
      "100%|████████████████████████████████████████████████████████████████████████████████████████████████████| 9843/9843 [03:27<00:00, 47.37it/s]\n",
      "100%|████████████████████████████████████████████████████████████████████████████████████████████████████| 2468/2468 [00:54<00:00, 45.65it/s]\n",
      "/home/mvries/anaconda3/envs/dcc/lib/python3.8/site-packages/sklearn/svm/_base.py:1225: ConvergenceWarning: Liblinear failed to converge, increase the number of iterations.\n",
      "  warnings.warn(\n"
     ]
    },
    {
     "name": "stdout",
     "output_type": "stream",
     "text": [
      "Results for encoder dgcnn shape plane k 40.\n",
      "{'acc': 0.8885737439222042}\n"
     ]
    },
    {
     "name": "stderr",
     "output_type": "stream",
     "text": [
      "100%|███████████████████████████████████████████████████████████████████████████████████████████████████| 9843/9843 [01:09<00:00, 142.63it/s]\n",
      "100%|███████████████████████████████████████████████████████████████████████████████████████████████████| 2468/2468 [00:18<00:00, 135.90it/s]\n",
      "/home/mvries/anaconda3/envs/dcc/lib/python3.8/site-packages/sklearn/svm/_base.py:1225: ConvergenceWarning: Liblinear failed to converge, increase the number of iterations.\n",
      "  warnings.warn(\n"
     ]
    },
    {
     "name": "stdout",
     "output_type": "stream",
     "text": [
      "Results for encoder dgcnn shape plane k 20.\n",
      "{'acc': 0.8658833063209076}\n"
     ]
    },
    {
     "name": "stderr",
     "output_type": "stream",
     "text": [
      "100%|████████████████████████████████████████████████████████████████████████████████████████████████████| 9843/9843 [03:32<00:00, 46.33it/s]\n",
      "100%|████████████████████████████████████████████████████████████████████████████████████████████████████| 2468/2468 [00:54<00:00, 45.04it/s]\n",
      "/home/mvries/anaconda3/envs/dcc/lib/python3.8/site-packages/sklearn/svm/_base.py:1225: ConvergenceWarning: Liblinear failed to converge, increase the number of iterations.\n",
      "  warnings.warn(\n"
     ]
    },
    {
     "name": "stdout",
     "output_type": "stream",
     "text": [
      "Results for encoder dgcnn shape gaussian k 40.\n",
      "{'acc': 0.8711507293354943}\n"
     ]
    },
    {
     "name": "stderr",
     "output_type": "stream",
     "text": [
      "100%|████████████████████████████████████████████████████████████████████████████████████████████████████| 9843/9843 [02:10<00:00, 75.25it/s]\n",
      "100%|███████████████████████████████████████████████████████████████████████████████████████████████████| 2468/2468 [00:18<00:00, 131.45it/s]\n",
      "/home/mvries/anaconda3/envs/dcc/lib/python3.8/site-packages/sklearn/svm/_base.py:1225: ConvergenceWarning: Liblinear failed to converge, increase the number of iterations.\n",
      "  warnings.warn(\n"
     ]
    },
    {
     "name": "stdout",
     "output_type": "stream",
     "text": [
      "Results for encoder dgcnn shape gaussian k 20.\n",
      "{'acc': 0.8747974068071313}\n"
     ]
    },
    {
     "name": "stderr",
     "output_type": "stream",
     "text": [
      "100%|████████████████████████████████████████████████████████████████████████████████████████████████████| 9843/9843 [02:31<00:00, 64.78it/s]\n",
      "100%|████████████████████████████████████████████████████████████████████████████████████████████████████| 2468/2468 [00:37<00:00, 65.52it/s]\n",
      "/home/mvries/anaconda3/envs/dcc/lib/python3.8/site-packages/sklearn/svm/_base.py:1225: ConvergenceWarning: Liblinear failed to converge, increase the number of iterations.\n",
      "  warnings.warn(\n"
     ]
    },
    {
     "name": "stdout",
     "output_type": "stream",
     "text": [
      "Results for encoder dgcnn shape sphere k 20.\n",
      "{'acc': 0.8780388978930308}\n"
     ]
    },
    {
     "name": "stderr",
     "output_type": "stream",
     "text": [
      "100%|████████████████████████████████████████████████████████████████████████████████████████████████████| 9843/9843 [04:27<00:00, 36.74it/s]\n",
      "100%|████████████████████████████████████████████████████████████████████████████████████████████████████| 2468/2468 [01:23<00:00, 29.73it/s]\n"
     ]
    },
    {
     "name": "stdout",
     "output_type": "stream",
     "text": [
      "Results for encoder dgcnn shape sphere k 40.\n",
      "{'acc': 0.8788492706645057}\n"
     ]
    },
    {
     "name": "stderr",
     "output_type": "stream",
     "text": [
      "/home/mvries/anaconda3/envs/dcc/lib/python3.8/site-packages/sklearn/svm/_base.py:1225: ConvergenceWarning: Liblinear failed to converge, increase the number of iterations.\n",
      "  warnings.warn(\n"
     ]
    }
   ],
   "source": [
    "from pathlib import Path\n",
    "from torch.utils.data import DataLoader\n",
    "from tqdm import tqdm\n",
    "import numpy as np\n",
    "import os\n",
    "import h5py\n",
    "import numpy as np\n",
    "from glob import glob\n",
    "from sklearn.svm import LinearSVC\n",
    "import pandas as pd\n",
    "\n",
    "all_results = {}\n",
    "for encoder in ['foldingnet', 'dgcnn']:\n",
    "    for shape in ['plane', 'gaussian', 'sphere']:\n",
    "    \n",
    "        model_path = Path(path + f\"{encoder}_foldingnet_512_{shape}_001/ShapeNetExperiment/\")\n",
    "        for k_mod in model_path.iterdir():\n",
    "            \n",
    "            new_mod_path = k_mod / \"checkpoints/last.ckpt\"\n",
    "            checkpoint = torch.load(new_mod_path, map_location=lambda storage, loc: storage)\n",
    "            \n",
    "            k = int(str(k_mod.name)[-2:])\n",
    "            model = CloudAutoEncoder(\n",
    "                num_features=512,\n",
    "                k=k,\n",
    "                encoder_type=encoder,\n",
    "                decoder_type='foldingnet',\n",
    "                shape=shape,\n",
    "                gaussian_path = '/home/mvries/Documents/GitHub/cellshape-cloud/cellshape_cloud/vendor/gaussian.npy',\n",
    "                sphere_path = '/home/mvries/Documents/GitHub/cellshape-cloud/cellshape_cloud/vendor/sphere.npy'\n",
    "                )\n",
    "            args = easydict.EasyDict(\n",
    "                {\"learning_rate_autoencoder\": 0.0001,\n",
    "                   \"encoder_type\": encoder,\n",
    "                   \"decoder_type\": \"foldingnet\",\n",
    "                   \"k\": k,\n",
    "                \"dataframe_path\": \"\",\n",
    "                \"cloud_dataset_path\": \"\",\n",
    "                \"batch_size\": 1,\n",
    "                \"pretrained_path\": \"\",\n",
    "                \"dataset_type\": \"Other\"})\n",
    "            model = CloudAutoEncoderPL(args=args, model=model)\n",
    "\n",
    "            model.load_state_dict(checkpoint['state_dict'])\n",
    "\n",
    "            model.cuda()\n",
    "            \n",
    "            train_dset = Dataset(root='/mnt/nvme0n1/Datasets', split='train')\n",
    "            test_dset = Dataset(root='/mnt/nvme0n1/Datasets', split='test')\n",
    "\n",
    "            train_dloader = DataLoader(\n",
    "                    train_dset, batch_size=1, shuffle=False, num_workers=0\n",
    "                )\n",
    "            test_dloader = DataLoader(\n",
    "                    test_dset, batch_size=1, shuffle=False, num_workers=0\n",
    "                )\n",
    "            \n",
    "            all_feats = []\n",
    "            all_outs = []\n",
    "            all_treats = []\n",
    "            all_serials = []\n",
    "            all_inputs = []\n",
    "\n",
    "\n",
    "\n",
    "            for data in tqdm(train_dloader):\n",
    "                inp = data[0]\n",
    "                all_inputs.append(torch.squeeze(inp).numpy())\n",
    "                inputs = inp.cuda()\n",
    "                treatment = data[1]\n",
    "\n",
    "    \n",
    "                outputs, features = model.model(inputs)\n",
    "                all_feats.append(torch.squeeze(features).detach().cpu().numpy())\n",
    "                all_outs.append(torch.squeeze(outputs).detach().cpu().numpy())\n",
    "                all_treats.append(int(treatment[0].numpy()))\n",
    "                \n",
    "            all_feats_test = []\n",
    "            all_outs_test = []\n",
    "            all_treats_test = []\n",
    "            all_serials_test = []\n",
    "            all_inputs_test = []\n",
    "\n",
    "\n",
    "\n",
    "            for data in tqdm(test_dloader):\n",
    "                inp = data[0]\n",
    "                all_inputs_test.append(torch.squeeze(inp).numpy())\n",
    "                inputs = inp.cuda()\n",
    "                treatment = data[1]\n",
    "\n",
    "    \n",
    "                outputs, features = model.model(inputs)\n",
    "                all_feats_test.append(torch.squeeze(features).detach().cpu().numpy())\n",
    "                all_outs_test.append(torch.squeeze(outputs).detach().cpu().numpy())\n",
    "                all_treats_test.append(int(treatment[0].numpy()))\n",
    "                \n",
    "            train_feats = np.asarray(all_feats)\n",
    "            train_labs = all_treats\n",
    "\n",
    "            test_feats = np.asarray(all_feats_test)\n",
    "            test_labs = all_treats_test\n",
    "            \n",
    "            # label encode the target variable\n",
    "\n",
    "\n",
    "            X_train, X_test, y_train, y_test = train_feats, test_feats, train_labs, test_labs\n",
    "\n",
    "            clf = LinearSVC(random_state=0) \n",
    "\n",
    "            clf.fit(X_train, y_train)\n",
    "\n",
    "            y_pred = clf.predict(X_test)\n",
    "#             y_proba = clf.predict_proba(X_test)\n",
    "\n",
    "            acc_cls = accuracy_score(y_test, y_pred)\n",
    "#             bal_acc_cls = balanced_accuracy_score(y_test, y_pred)\n",
    "#             f1_cls = f1_score(y_test, y_pred, average='macro')\n",
    "#             # auc_cls_ovo = roc_auc_score(y_test, y_proba, average = 'macro')\n",
    "#             auc_cls_ovr = roc_auc_score(y_test, y_proba, average = 'macro', multi_class='ovr')\n",
    "#             precision_cls = precision_score(y_test, y_pred, average='macro')\n",
    "#             recall_cls = recall_score(y_test, y_pred, average='macro')\n",
    "\n",
    "            results_dl = {'acc': acc_cls,\n",
    "#                  'bal_acc': bal_acc_cls,\n",
    "#                  'f1': f1_cls,\n",
    "# #                  'auc_ovo': auc_cls_ovo,\n",
    "#                   'auc_ovr': auc_cls_ovr,\n",
    "#                  'precision': precision_cls,\n",
    "#                  'recall': recall_cls\n",
    "                         }\n",
    "            \n",
    "            print(f\"Results for encoder {encoder} shape {shape} k {k}.\")\n",
    "            print(results_dl)\n",
    "            all_results[f\"{encoder}_{shape}_k{k}\"] = results_dl\n",
    "\n",
    "#             fig, ax = plt.subplots(figsize=(10, 10))\n",
    "#             cm = plot_confusion_matrix(clf, X_test, y_test, normalize='true', ax=ax, cmap=plt.cm.plasma)  \n",
    "#             cm.ax_.get_images()[0].set_clim(0, 1)\n",
    "#             plt.show()"
   ]
  },
  {
   "cell_type": "code",
   "execution_count": 15,
   "id": "7efddc87",
   "metadata": {},
   "outputs": [
    {
     "name": "stdout",
     "output_type": "stream",
     "text": [
      "Results for encoder foldingnet shape plane k 20.\n",
      "{'acc': 0.8545380875202593}\n"
     ]
    },
    {
     "name": "stderr",
     "output_type": "stream",
     "text": [
      "/home/mvries/anaconda3/envs/dcc/lib/python3.8/site-packages/sklearn/svm/_base.py:1225: ConvergenceWarning: Liblinear failed to converge, increase the number of iterations.\n",
      "  warnings.warn(\n"
     ]
    }
   ],
   "source": [
    "clf = LinearSVC(random_state=0) \n",
    "\n",
    "clf.fit(X_train, y_train)\n",
    "\n",
    "y_pred = clf.predict(X_test)\n",
    "#             y_proba = clf.predict_proba(X_test)\n",
    "\n",
    "acc_cls = accuracy_score(y_test, y_pred)\n",
    "#             bal_acc_cls = balanced_accuracy_score(y_test, y_pred)\n",
    "#             f1_cls = f1_score(y_test, y_pred, average='macro')\n",
    "#             # auc_cls_ovo = roc_auc_score(y_test, y_proba, average = 'macro')\n",
    "#             auc_cls_ovr = roc_auc_score(y_test, y_proba, average = 'macro', multi_class='ovr')\n",
    "#             precision_cls = precision_score(y_test, y_pred, average='macro')\n",
    "#             recall_cls = recall_score(y_test, y_pred, average='macro')\n",
    "\n",
    "results_dl = {'acc': acc_cls,\n",
    "#                  'bal_acc': bal_acc_cls,\n",
    "#                  'f1': f1_cls,\n",
    "# #                  'auc_ovo': auc_cls_ovo,\n",
    "#                   'auc_ovr': auc_cls_ovr,\n",
    "#                  'precision': precision_cls,\n",
    "#                  'recall': recall_cls\n",
    "                         }\n",
    "           \n",
    "print(f\"Results for encoder {encoder} shape {shape} k {k}.\")\n",
    "print(results_dl)\n",
    "all_results[f\"{encoder}_{shape}_k{k}\"] = results_dl"
   ]
  },
  {
   "cell_type": "code",
   "execution_count": 58,
   "id": "34e0334d",
   "metadata": {},
   "outputs": [
    {
     "data": {
      "text/html": [
       "<div>\n",
       "<style scoped>\n",
       "    .dataframe tbody tr th:only-of-type {\n",
       "        vertical-align: middle;\n",
       "    }\n",
       "\n",
       "    .dataframe tbody tr th {\n",
       "        vertical-align: top;\n",
       "    }\n",
       "\n",
       "    .dataframe thead th {\n",
       "        text-align: right;\n",
       "    }\n",
       "</style>\n",
       "<table border=\"1\" class=\"dataframe\">\n",
       "  <thead>\n",
       "    <tr style=\"text-align: right;\">\n",
       "      <th></th>\n",
       "      <th>acc</th>\n",
       "      <th>bal_acc</th>\n",
       "      <th>f1</th>\n",
       "      <th>auc_ovr</th>\n",
       "      <th>precision</th>\n",
       "      <th>recall</th>\n",
       "    </tr>\n",
       "  </thead>\n",
       "  <tbody>\n",
       "    <tr>\n",
       "      <th>foldingnet_plane_k20</th>\n",
       "      <td>0.860211</td>\n",
       "      <td>0.829477</td>\n",
       "      <td>0.814972</td>\n",
       "      <td>0.994621</td>\n",
       "      <td>0.810845</td>\n",
       "      <td>0.829477</td>\n",
       "    </tr>\n",
       "    <tr>\n",
       "      <th>foldingnet_plane_k40</th>\n",
       "      <td>0.860616</td>\n",
       "      <td>0.819808</td>\n",
       "      <td>0.808378</td>\n",
       "      <td>0.994197</td>\n",
       "      <td>0.808139</td>\n",
       "      <td>0.819808</td>\n",
       "    </tr>\n",
       "    <tr>\n",
       "      <th>foldingnet_gaussian_k40</th>\n",
       "      <td>0.860616</td>\n",
       "      <td>0.818395</td>\n",
       "      <td>0.810548</td>\n",
       "      <td>0.994786</td>\n",
       "      <td>0.812245</td>\n",
       "      <td>0.818395</td>\n",
       "    </tr>\n",
       "    <tr>\n",
       "      <th>foldingnet_gaussian_k20</th>\n",
       "      <td>0.868720</td>\n",
       "      <td>0.833802</td>\n",
       "      <td>0.824146</td>\n",
       "      <td>0.995365</td>\n",
       "      <td>0.826508</td>\n",
       "      <td>0.833802</td>\n",
       "    </tr>\n",
       "    <tr>\n",
       "      <th>foldingnet_sphere_k40</th>\n",
       "      <td>0.862642</td>\n",
       "      <td>0.824052</td>\n",
       "      <td>0.813014</td>\n",
       "      <td>0.994438</td>\n",
       "      <td>0.810090</td>\n",
       "      <td>0.824052</td>\n",
       "    </tr>\n",
       "    <tr>\n",
       "      <th>foldingnet_sphere_k20</th>\n",
       "      <td>0.861021</td>\n",
       "      <td>0.835093</td>\n",
       "      <td>0.821021</td>\n",
       "      <td>0.994983</td>\n",
       "      <td>0.820443</td>\n",
       "      <td>0.835093</td>\n",
       "    </tr>\n",
       "    <tr>\n",
       "      <th>dgcnn_plane_k40</th>\n",
       "      <td>0.882496</td>\n",
       "      <td>0.850680</td>\n",
       "      <td>0.844484</td>\n",
       "      <td>0.995304</td>\n",
       "      <td>0.845003</td>\n",
       "      <td>0.850680</td>\n",
       "    </tr>\n",
       "    <tr>\n",
       "      <th>dgcnn_plane_k20</th>\n",
       "      <td>0.876823</td>\n",
       "      <td>0.834506</td>\n",
       "      <td>0.828420</td>\n",
       "      <td>0.995787</td>\n",
       "      <td>0.828524</td>\n",
       "      <td>0.834506</td>\n",
       "    </tr>\n",
       "    <tr>\n",
       "      <th>dgcnn_gaussian_k40</th>\n",
       "      <td>0.874392</td>\n",
       "      <td>0.833302</td>\n",
       "      <td>0.827238</td>\n",
       "      <td>0.995940</td>\n",
       "      <td>0.831589</td>\n",
       "      <td>0.833302</td>\n",
       "    </tr>\n",
       "    <tr>\n",
       "      <th>dgcnn_gaussian_k20</th>\n",
       "      <td>0.871961</td>\n",
       "      <td>0.831855</td>\n",
       "      <td>0.826124</td>\n",
       "      <td>0.995962</td>\n",
       "      <td>0.829962</td>\n",
       "      <td>0.831855</td>\n",
       "    </tr>\n",
       "    <tr>\n",
       "      <th>dgcnn_sphere_k20</th>\n",
       "      <td>0.877229</td>\n",
       "      <td>0.841773</td>\n",
       "      <td>0.832619</td>\n",
       "      <td>0.996108</td>\n",
       "      <td>0.831555</td>\n",
       "      <td>0.841773</td>\n",
       "    </tr>\n",
       "    <tr>\n",
       "      <th>dgcnn_sphere_k40</th>\n",
       "      <td>0.873582</td>\n",
       "      <td>0.830297</td>\n",
       "      <td>0.824806</td>\n",
       "      <td>0.995006</td>\n",
       "      <td>0.832290</td>\n",
       "      <td>0.830297</td>\n",
       "    </tr>\n",
       "  </tbody>\n",
       "</table>\n",
       "</div>"
      ],
      "text/plain": [
       "                              acc   bal_acc        f1   auc_ovr  precision  \\\n",
       "foldingnet_plane_k20     0.860211  0.829477  0.814972  0.994621   0.810845   \n",
       "foldingnet_plane_k40     0.860616  0.819808  0.808378  0.994197   0.808139   \n",
       "foldingnet_gaussian_k40  0.860616  0.818395  0.810548  0.994786   0.812245   \n",
       "foldingnet_gaussian_k20  0.868720  0.833802  0.824146  0.995365   0.826508   \n",
       "foldingnet_sphere_k40    0.862642  0.824052  0.813014  0.994438   0.810090   \n",
       "foldingnet_sphere_k20    0.861021  0.835093  0.821021  0.994983   0.820443   \n",
       "dgcnn_plane_k40          0.882496  0.850680  0.844484  0.995304   0.845003   \n",
       "dgcnn_plane_k20          0.876823  0.834506  0.828420  0.995787   0.828524   \n",
       "dgcnn_gaussian_k40       0.874392  0.833302  0.827238  0.995940   0.831589   \n",
       "dgcnn_gaussian_k20       0.871961  0.831855  0.826124  0.995962   0.829962   \n",
       "dgcnn_sphere_k20         0.877229  0.841773  0.832619  0.996108   0.831555   \n",
       "dgcnn_sphere_k40         0.873582  0.830297  0.824806  0.995006   0.832290   \n",
       "\n",
       "                           recall  \n",
       "foldingnet_plane_k20     0.829477  \n",
       "foldingnet_plane_k40     0.819808  \n",
       "foldingnet_gaussian_k40  0.818395  \n",
       "foldingnet_gaussian_k20  0.833802  \n",
       "foldingnet_sphere_k40    0.824052  \n",
       "foldingnet_sphere_k20    0.835093  \n",
       "dgcnn_plane_k40          0.850680  \n",
       "dgcnn_plane_k20          0.834506  \n",
       "dgcnn_gaussian_k40       0.833302  \n",
       "dgcnn_gaussian_k20       0.831855  \n",
       "dgcnn_sphere_k20         0.841773  \n",
       "dgcnn_sphere_k40         0.830297  "
      ]
     },
     "execution_count": 58,
     "metadata": {},
     "output_type": "execute_result"
    }
   ],
   "source": []
  },
  {
   "cell_type": "code",
   "execution_count": 59,
   "id": "2bee35df",
   "metadata": {},
   "outputs": [
    {
     "data": {
      "text/plain": [
       "{'foldingnet_plane_k20': {'acc': 0.8602106969205835,\n",
       "  'bal_acc': 0.8294767441860464,\n",
       "  'f1': 0.81497229838644,\n",
       "  'auc_ovr': 0.9946212557499244,\n",
       "  'precision': 0.8108446413111394,\n",
       "  'recall': 0.8294767441860464},\n",
       " 'foldingnet_plane_k40': {'acc': 0.8606158833063209,\n",
       "  'bal_acc': 0.8198081395348839,\n",
       "  'f1': 0.8083783383012861,\n",
       "  'auc_ovr': 0.9941972343765089,\n",
       "  'precision': 0.8081390021500982,\n",
       "  'recall': 0.8198081395348839},\n",
       " 'foldingnet_gaussian_k40': {'acc': 0.8606158833063209,\n",
       "  'bal_acc': 0.8183953488372093,\n",
       "  'f1': 0.8105477579992784,\n",
       "  'auc_ovr': 0.9947861777123432,\n",
       "  'precision': 0.812245190710812,\n",
       "  'recall': 0.8183953488372093},\n",
       " 'foldingnet_gaussian_k20': {'acc': 0.8687196110210696,\n",
       "  'bal_acc': 0.8338023255813954,\n",
       "  'f1': 0.8241456078006477,\n",
       "  'auc_ovr': 0.9953650116468189,\n",
       "  'precision': 0.8265075190324239,\n",
       "  'recall': 0.8338023255813954},\n",
       " 'foldingnet_sphere_k40': {'acc': 0.8626418152350082,\n",
       "  'bal_acc': 0.8240523255813954,\n",
       "  'f1': 0.8130136219395248,\n",
       "  'auc_ovr': 0.9944384189802697,\n",
       "  'precision': 0.8100896397166437,\n",
       "  'recall': 0.8240523255813954},\n",
       " 'foldingnet_sphere_k20': {'acc': 0.8610210696920584,\n",
       "  'bal_acc': 0.835093023255814,\n",
       "  'f1': 0.8210209658862204,\n",
       "  'auc_ovr': 0.9949832601330015,\n",
       "  'precision': 0.8204432318070088,\n",
       "  'recall': 0.835093023255814},\n",
       " 'dgcnn_plane_k40': {'acc': 0.8824959481361426,\n",
       "  'bal_acc': 0.8506802325581395,\n",
       "  'f1': 0.8444841515255911,\n",
       "  'auc_ovr': 0.9953039809073992,\n",
       "  'precision': 0.8450030332442896,\n",
       "  'recall': 0.8506802325581395},\n",
       " 'dgcnn_plane_k20': {'acc': 0.8768233387358185,\n",
       "  'bal_acc': 0.8345058139534884,\n",
       "  'f1': 0.8284199320282486,\n",
       "  'auc_ovr': 0.9957873224150295,\n",
       "  'precision': 0.828524235796446,\n",
       "  'recall': 0.8345058139534884},\n",
       " 'dgcnn_gaussian_k40': {'acc': 0.8743922204213939,\n",
       "  'bal_acc': 0.8333023255813954,\n",
       "  'f1': 0.8272380830521218,\n",
       "  'auc_ovr': 0.9959398475294865,\n",
       "  'precision': 0.8315889914115943,\n",
       "  'recall': 0.8333023255813954},\n",
       " 'dgcnn_gaussian_k20': {'acc': 0.8719611021069692,\n",
       "  'bal_acc': 0.8318546511627906,\n",
       "  'f1': 0.8261236535111103,\n",
       "  'auc_ovr': 0.9959615077722421,\n",
       "  'precision': 0.8299624645945757,\n",
       "  'recall': 0.8318546511627906},\n",
       " 'dgcnn_sphere_k20': {'acc': 0.8772285251215559,\n",
       "  'bal_acc': 0.8417732558139533,\n",
       "  'f1': 0.8326188759007765,\n",
       "  'auc_ovr': 0.9961078716586498,\n",
       "  'precision': 0.8315546685638058,\n",
       "  'recall': 0.8417732558139533},\n",
       " 'dgcnn_sphere_k40': {'acc': 0.873581847649919,\n",
       "  'bal_acc': 0.8302965116279071,\n",
       "  'f1': 0.8248064106717233,\n",
       "  'auc_ovr': 0.9950061620695319,\n",
       "  'precision': 0.8322898363970854,\n",
       "  'recall': 0.8302965116279071}}"
      ]
     },
     "execution_count": 59,
     "metadata": {},
     "output_type": "execute_result"
    }
   ],
   "source": [
    "all_results"
   ]
  },
  {
   "cell_type": "code",
   "execution_count": 13,
   "id": "d4a05435",
   "metadata": {},
   "outputs": [
    {
     "name": "stdout",
     "output_type": "stream",
     "text": [
      "\\begin{table}[h]\n",
      "\\centering\n",
      "\\begin{tabular}{|l|c|c|c|c|c|c|}\n",
      "\\hline\n",
      "acc & bal_acc & f1 & auc_ovr & precision & recall \\\\\n",
      "\\hline\n",
      "foldingnet_plane_k20 & 0.86 & 0.829 & 0.815 & 0.995 & 0.811 & 0.829 \\\\\n",
      "foldingnet_plane_k40 & 0.861 & 0.82 & 0.808 & 0.994 & 0.808 & 0.82 \\\\\n",
      "foldingnet_gaussian_k40 & 0.861 & 0.818 & 0.811 & 0.995 & 0.812 & 0.818 \\\\\n",
      "foldingnet_gaussian_k20 & 0.869 & 0.834 & 0.824 & 0.995 & 0.827 & 0.834 \\\\\n",
      "foldingnet_sphere_k40 & 0.863 & 0.824 & 0.813 & 0.994 & 0.81 & 0.824 \\\\\n",
      "foldingnet_sphere_k20 & 0.861 & 0.835 & 0.821 & 0.995 & 0.82 & 0.835 \\\\\n",
      "dgcnn_plane_k40 & \\textbf{0.882} & \\textbf{0.851} & \\textbf{0.844} & 0.995 & \\textbf{0.845} & \\textbf{0.851} \\\\\n",
      "dgcnn_plane_k20 & 0.877 & 0.835 & 0.828 & \\textbf{0.996} & 0.829 & 0.835 \\\\\n",
      "dgcnn_gaussian_k40 & 0.874 & 0.833 & 0.827 & \\textbf{0.996} & 0.832 & 0.833 \\\\\n",
      "dgcnn_gaussian_k20 & 0.872 & 0.832 & 0.826 & \\textbf{0.996} & 0.83 & 0.832 \\\\\n",
      "dgcnn_sphere_k20 & 0.877 & 0.842 & 0.833 & \\textbf{0.996} & 0.832 & 0.842 \\\\\n",
      "dgcnn_sphere_k40 & 0.874 & 0.83 & 0.825 & 0.995 & 0.832 & 0.83 \\\\\n",
      "\\hline\n",
      "\\end{tabular}\n",
      "\\end{table}\n"
     ]
    }
   ],
   "source": [
    "import pandas as pd\n",
    "\n",
    "# Create a dictionary with the data\n",
    "data = {\n",
    "    'foldingnet_plane_k20': {'acc': 0.8602106969205835, 'bal_acc': 0.8294767441860464, 'f1': 0.81497229838644, 'auc_ovr': 0.9946212557499244, 'precision': 0.8108446413111394, 'recall': 0.8294767441860464},\n",
    "    'foldingnet_plane_k40': {'acc': 0.8606158833063209, 'bal_acc': 0.8198081395348839, 'f1': 0.8083783383012861, 'auc_ovr': 0.9941972343765089, 'precision': 0.8081390021500982, 'recall': 0.8198081395348839},\n",
    "    'foldingnet_gaussian_k40': {'acc': 0.8606158833063209, 'bal_acc': 0.8183953488372093, 'f1': 0.8105477579992784, 'auc_ovr': 0.9947861777123432, 'precision': 0.812245190710812, 'recall': 0.8183953488372093},\n",
    "    'foldingnet_gaussian_k20': {'acc': 0.8687196110210696, 'bal_acc': 0.8338023255813954, 'f1': 0.8241456078006477, 'auc_ovr': 0.9953650116468189, 'precision': 0.8265075190324239, 'recall': 0.8338023255813954},\n",
    "    'foldingnet_sphere_k40': {'acc': 0.8626418152350082, 'bal_acc': 0.8240523255813954, 'f1': 0.8130136219395248, 'auc_ovr': 0.9944384189802697, 'precision': 0.8100896397166437, 'recall': 0.8240523255813954},\n",
    "    'foldingnet_sphere_k20': {'acc': 0.8610210696920584, 'bal_acc': 0.835093023255814, 'f1': 0.8210209658862204, 'auc_ovr': 0.9949832601330015, 'precision': 0.8204432318070088, 'recall': 0.835093023255814},\n",
    "    'dgcnn_plane_k40': {'acc': 0.8824959481361426, 'bal_acc': 0.8506802325581395, 'f1': 0.8444841515255911, 'auc_ovr': 0.9953039809073992, 'precision': 0.8450030332442896, 'recall': 0.8506802325581395},\n",
    "    'dgcnn_plane_k20': {'acc': 0.8768233387358185, 'bal_acc': 0.8345058139534884, 'f1': 0.8284199320282486, 'auc_ovr': 0.9957873224150295, 'precision': 0.828524235796446, 'recall': 0.8345058139534884},\n",
    "    'dgcnn_gaussian_k40': {'acc': 0.8743922204213939, 'bal_acc': 0.8333023255813954, 'f1': 0.8272380830521218, 'auc_ovr': 0.9959398475294865, 'precision': 0.8315889914115943, 'recall': 0.8333023255813954},\n",
    "    'dgcnn_gaussian_k20': {'acc': 0.8719611021069692, 'bal_acc': 0.8318546511627906, 'f1': 0.8261236535111103, 'auc_ovr': 0.9959615077722421, 'precision': 0.8299624645945757, 'recall': 0.8318546511627906},\n",
    "    'dgcnn_sphere_k20': {'acc': 0.8772285251215559, 'bal_acc': 0.8417732558139533, 'f1': 0.8326188759007765, 'auc_ovr': 0.9961078716586498, 'precision': 0.8315546685638058, 'recall': 0.8417732558139533},\n",
    "    'dgcnn_sphere_k40': {'acc': 0.873581847649919, 'bal_acc': 0.8302965116279071, 'f1': 0.8248064106717233, 'auc_ovr': 0.9950061620695319, 'precision': 0.8322898363970854, 'recall': 0.8302965116279071}\n",
    "}\n",
    "\n",
    "# Convert the dictionary to a DataFrame\n",
    "df = pd.DataFrame(data)\n",
    "\n",
    "# Round the numbers to two decimal places\n",
    "df = df.round(3)\n",
    "\n",
    "# Transpose the DataFrame\n",
    "df = df.transpose()\n",
    "\n",
    "# Get the column names and maximum values\n",
    "column_names = df.columns\n",
    "max_values = df.max()\n",
    "\n",
    "# Create a LaTeX table\n",
    "latex_table = \"\\\\begin{table}[h]\\n\\\\centering\\n\\\\begin{tabular}{|l|\" + \"c|\" * len(column_names) + \"}\\n\\\\hline\\n\"\n",
    "\n",
    "# Add column headers\n",
    "latex_table += \" & \".join([''] + column_names) + \" \\\\\\\\\\n\\\\hline\\n\"\n",
    "\n",
    "# Add rows with highlighting for maximum values\n",
    "for index, row in df.iterrows():\n",
    "    row_values = [f\"\\\\textbf{{{value}}}\" if value == max_values[column] else str(value) for column, value in row.items()]\n",
    "    latex_table += \" & \".join([index] + row_values) + \" \\\\\\\\\\n\"\n",
    "\n",
    "# Add table footer\n",
    "latex_table += \"\\\\hline\\n\\\\end{tabular}\\n\\\\end{table}\"\n",
    "\n",
    "# Print the LaTeX table\n",
    "print(latex_table)\n"
   ]
  },
  {
   "cell_type": "code",
   "execution_count": null,
   "id": "941da5a4",
   "metadata": {},
   "outputs": [],
   "source": []
  }
 ],
 "metadata": {
  "kernelspec": {
   "display_name": "Python 3 (ipykernel)",
   "language": "python",
   "name": "python3"
  },
  "language_info": {
   "codemirror_mode": {
    "name": "ipython",
    "version": 3
   },
   "file_extension": ".py",
   "mimetype": "text/x-python",
   "name": "python",
   "nbconvert_exporter": "python",
   "pygments_lexer": "ipython3",
   "version": "3.8.13"
  }
 },
 "nbformat": 4,
 "nbformat_minor": 5
}
